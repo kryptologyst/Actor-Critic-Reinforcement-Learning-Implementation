{
  "cells": [
    {
      "cell_type": "markdown",
      "metadata": {},
      "source": [
        "# Actor-Critic Reinforcement Learning Demo\n",
        "\n",
        "This notebook demonstrates the Actor-Critic algorithm implementation with interactive training and visualization.\n"
      ]
    },
    {
      "cell_type": "code",
      "execution_count": null,
      "metadata": {},
      "outputs": [],
      "source": [
        "import sys\n",
        "from pathlib import Path\n",
        "import numpy as np\n",
        "import matplotlib.pyplot as plt\n",
        "import gymnasium as gym\n",
        "import torch\n",
        "\n",
        "# Add src to path\n",
        "sys.path.append(str(Path.cwd() / \"src\"))\n",
        "\n",
        "from agents import ActorCriticAgent\n",
        "\n",
        "# Set up plotting\n",
        "plt.style.use('seaborn-v0_8')\n",
        "%matplotlib inline\n"
      ]
    }
  ],
  "metadata": {
    "language_info": {
      "name": "python"
    }
  },
  "nbformat": 4,
  "nbformat_minor": 2
}
